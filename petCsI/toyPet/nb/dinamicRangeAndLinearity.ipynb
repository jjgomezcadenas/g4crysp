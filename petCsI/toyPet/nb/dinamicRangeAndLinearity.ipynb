{
 "cells": [
  {
   "cell_type": "code",
   "execution_count": 1,
   "id": "fbdb1305-f99b-41a0-bf6d-0f2a53ea2109",
   "metadata": {},
   "outputs": [],
   "source": [
    "%matplotlib inline\n",
    "%load_ext autoreload\n",
    "%autoreload 2\n",
    "import matplotlib.pyplot as plt\n",
    "from matplotlib.pyplot import imshow\n",
    "plt.rcParams[\"figure.figsize\"] = 10, 8\n",
    "plt.rcParams[\"font.size\"     ] = 14\n",
    "\n"
   ]
  },
  {
   "cell_type": "code",
   "execution_count": 2,
   "id": "0e7669b6-64da-4a67-9390-55b3fa35bb73",
   "metadata": {},
   "outputs": [],
   "source": [
    "import numpy as np\n",
    "import pandas as pd\n",
    "import glob"
   ]
  },
  {
   "cell_type": "code",
   "execution_count": 3,
   "id": "aa444282-2508-4510-8f16-ce4824fd15e3",
   "metadata": {},
   "outputs": [],
   "source": [
    "def histoplot(df, dfvar, num_bins = 10, range=None, figsize=(6, 4), title=\"\"):\n",
    "    \n",
    "    fig, ax0 = plt.subplots(1, 1, figsize=figsize)\n",
    "    _, _, _ = ax0.hist(df[dfvar], num_bins, range, label=dfvar)\n",
    "    ax0.set_xlabel(dfvar)\n",
    "    ax0.set_ylabel('Events/bin')\n",
    "    ax0.set_title(title)\n",
    "    ax0.legend()\n",
    "    fig.tight_layout()\n",
    "    plt.show()"
   ]
  },
  {
   "cell_type": "code",
   "execution_count": 4,
   "id": "ec36a4dc-2f40-4af4-bbe0-2008d9d2d0e0",
   "metadata": {},
   "outputs": [],
   "source": [
    "def plot_energy(df, num_bins = 20, xmin=2e+4, xmax=4e+4, figsize=(6, 4), title=\"\"):\n",
    "    energies = df.groupby(\"event\").sum().amplitude.values\n",
    "    \n",
    "    fig, ax0 = plt.subplots(1, 1, figsize=figsize)\n",
    "    _, _, _ = ax0.hist(energies, num_bins, (xmin, xmax))\n",
    "    ax0.set_xlabel(\"Event energy\")\n",
    "    ax0.set_ylabel('Events/bin')\n",
    "    ax0.set_title(title)\n",
    "    \n",
    "\n",
    "    fig.tight_layout()\n",
    "    plt.show()"
   ]
  },
  {
   "cell_type": "code",
   "execution_count": 5,
   "id": "266300d7-0398-4aa0-968c-f9bc8bb3c751",
   "metadata": {},
   "outputs": [],
   "source": [
    "def plot_time(df, num_bins = 20, xmin=0.0, xmax=5e+3, timebin=200, figsize=(6, 4), title=\"\"):\n",
    "    \n",
    "    fig, ax0 = plt.subplots(1, 1, figsize=figsize)\n",
    "    _, _, _ = ax0.hist(df.time * timebin, num_bins, (xmin, xmax), weights=df.charge)\n",
    "    ax0.set_xlabel(\"Event Time\")\n",
    "    ax0.set_ylabel('Events/bin')\n",
    "    ax0.set_title(title)\n",
    "    \n",
    "    fig.tight_layout()\n",
    "    plt.show()"
   ]
  },
  {
   "cell_type": "code",
   "execution_count": 6,
   "id": "f06f5b34-c537-407f-bb77-1a84aeda3f8b",
   "metadata": {},
   "outputs": [],
   "source": [
    "def select_image_from_df(df, evtsel = 10):\n",
    "    gevt = df.groupby('event')\n",
    "    n = 8\n",
    "    charge_matrix = np.zeros((n, n))\n",
    "    for event_number, group in gevt:\n",
    "        if event_number == evtsel:\n",
    "            for _, row in group.iterrows():\n",
    "                sensor_id = row['sensor_id']\n",
    "                charge = row['amplitude']\n",
    "                charge_matrix[sensor_id // n, sensor_id % n] = charge\n",
    "            break\n",
    "    return charge_matrix"
   ]
  },
  {
   "cell_type": "code",
   "execution_count": 7,
   "id": "11343b6c-1223-46b1-bf3b-63da3e81e43b",
   "metadata": {},
   "outputs": [],
   "source": [
    "def plot_image(charge_matrix, figsize=(6, 6)):\n",
    "    plt.figure(figsize=figsize)\n",
    "    plt.imshow(charge_matrix, cmap='viridis', interpolation='none')\n",
    "    plt.colorbar(label='Charge')\n",
    "    plt.title(f'Charge Matrix for Event {evtsel}')\n",
    "    plt.xlabel('Sensor X')\n",
    "    plt.ylabel('Sensor Y')\n",
    "    plt.show()"
   ]
  },
  {
   "cell_type": "code",
   "execution_count": 8,
   "id": "6a832c57-55c2-416f-ad56-62d2b908bf9c",
   "metadata": {},
   "outputs": [],
   "source": [
    "def read_histograms(filename):\n",
    "    with open(filename, 'r') as file:\n",
    "        lines = file.readlines()\n",
    "    \n",
    "    histograms = {}\n",
    "    current_histogram = None\n",
    "    bin_edges = []\n",
    "    bin_values = []\n",
    "\n",
    "    for line in lines:\n",
    "        if line.startswith(\"# Histogram:\"):\n",
    "            if current_histogram:\n",
    "                histograms[current_histogram] = (bin_edges, bin_values)\n",
    "            current_histogram = line.split(\":\")[1].strip()\n",
    "            bin_edges = []\n",
    "            bin_values = []\n",
    "        elif current_histogram and line.strip():\n",
    "            parts = line.split()\n",
    "            bin_edges.append(float(parts[0]))\n",
    "            bin_edges.append(float(parts[1]))\n",
    "            bin_values.append(float(parts[2]))\n",
    "    \n",
    "    if current_histogram:\n",
    "        histograms[current_histogram] = (bin_edges, bin_values)\n",
    "\n",
    "    return histograms\n"
   ]
  },
  {
   "cell_type": "code",
   "execution_count": 9,
   "id": "115a8663-2816-4d02-a9a7-d7464cbf61cb",
   "metadata": {},
   "outputs": [],
   "source": [
    "def plot_histogram(histograms, name, figsize=(6, 6)):\n",
    "    edges, values = histograms[name]\n",
    "    bin_edges = edges[::2]  # taking only the lower edges\n",
    "    bin_width = edges[1] - edges[0]  # assuming uniform bin width\n",
    "    \n",
    "    plt.figure(figsize=figsize)    \n",
    "    plt.bar(bin_edges, values, width=bin_width, align='edge')\n",
    "    plt.title(f\"Histogram: {name}\")\n",
    "    plt.xlabel(\"Bin\")\n",
    "    plt.ylabel(\"Count\")\n",
    "    plt.show()\n"
   ]
  },
  {
   "cell_type": "code",
   "execution_count": 10,
   "id": "b17f229f-42c7-4b93-b255-319bd40c2ce5",
   "metadata": {},
   "outputs": [],
   "source": [
    "def collect_images(df, n= 8):\n",
    "    events = np.unique(df['event'])\n",
    "    images = np.zeros((events.shape[0],n,n))\n",
    "    gevt = df.groupby('event')\n",
    "    i=0\n",
    "    charge_matrix = np.zeros((n, n))\n",
    "    for event_number, group in gevt:\n",
    "        for _, row in group.iterrows():\n",
    "            sensor_id = row['sensor_id']\n",
    "            charge = row['amplitude']\n",
    "            charge_matrix[sensor_id // n, sensor_id % n] = charge\n",
    "        images[i]= charge_matrix\n",
    "        i+=1\n",
    "    return images"
   ]
  },
  {
   "cell_type": "code",
   "execution_count": 11,
   "id": "6714586e-1fbc-4bd1-8dd1-b932b3fd8819",
   "metadata": {},
   "outputs": [],
   "source": [
    "def dinamic_range_caen(spe=16e-3, vmax=4): # in volts\n",
    "    return vmax/spe"
   ]
  },
  {
   "cell_type": "code",
   "execution_count": 12,
   "id": "aaf6d201-9baa-4131-bb79-7b2f940e3473",
   "metadata": {},
   "outputs": [],
   "source": [
    "def linearity_sipm(M,  Nph, PDE=1):\n",
    "    return M * (1.0 - np.exp(-(PDE*Nph)/M))"
   ]
  },
  {
   "cell_type": "code",
   "execution_count": 13,
   "id": "d7673596-8f9b-41e0-8987-fcaabb8e6926",
   "metadata": {},
   "outputs": [
    {
     "data": {
      "text/plain": [
       "250.0"
      ]
     },
     "execution_count": 13,
     "metadata": {},
     "output_type": "execute_result"
    }
   ],
   "source": [
    "dinamic_range_caen(spe=16e-3, vmax=4)"
   ]
  },
  {
   "cell_type": "code",
   "execution_count": 14,
   "id": "602837bb-36cc-44a0-9eb7-cca44c6cfddf",
   "metadata": {},
   "outputs": [
    {
     "data": {
      "text/plain": [
       "0.9928910353316778"
      ]
     },
     "execution_count": 14,
     "metadata": {},
     "output_type": "execute_result"
    }
   ],
   "source": [
    "linearity_sipm(14e+3, 200.0)/200"
   ]
  },
  {
   "cell_type": "markdown",
   "id": "4b84b0d7-03c1-4103-a8e0-ea81851827db",
   "metadata": {},
   "source": [
    "## Z uniform case"
   ]
  },
  {
   "cell_type": "code",
   "execution_count": 15,
   "id": "9fb0034a-c6b3-472c-954c-375c41e0d39f",
   "metadata": {},
   "outputs": [],
   "source": [
    "rootdir = \"/Users/jjgomezcadenas/Data/G4Prods/crystalMT/csiGammasUniformTest\"\n",
    "filenm = \"sensor_data_1.csv\"\n"
   ]
  },
  {
   "cell_type": "code",
   "execution_count": 16,
   "id": "1acdd74b",
   "metadata": {},
   "outputs": [
    {
     "data": {
      "text/html": [
       "<div>\n",
       "<style scoped>\n",
       "    .dataframe tbody tr th:only-of-type {\n",
       "        vertical-align: middle;\n",
       "    }\n",
       "\n",
       "    .dataframe tbody tr th {\n",
       "        vertical-align: top;\n",
       "    }\n",
       "\n",
       "    .dataframe thead th {\n",
       "        text-align: right;\n",
       "    }\n",
       "</style>\n",
       "<table border=\"1\" class=\"dataframe\">\n",
       "  <thead>\n",
       "    <tr style=\"text-align: right;\">\n",
       "      <th></th>\n",
       "      <th>event</th>\n",
       "      <th>sensor_id</th>\n",
       "      <th>time</th>\n",
       "      <th>charge</th>\n",
       "    </tr>\n",
       "  </thead>\n",
       "  <tbody>\n",
       "    <tr>\n",
       "      <th>0</th>\n",
       "      <td>700</td>\n",
       "      <td>45</td>\n",
       "      <td>0.0</td>\n",
       "      <td>149.0</td>\n",
       "    </tr>\n",
       "    <tr>\n",
       "      <th>1</th>\n",
       "      <td>700</td>\n",
       "      <td>45</td>\n",
       "      <td>1.0</td>\n",
       "      <td>127.0</td>\n",
       "    </tr>\n",
       "    <tr>\n",
       "      <th>2</th>\n",
       "      <td>700</td>\n",
       "      <td>45</td>\n",
       "      <td>2.0</td>\n",
       "      <td>102.0</td>\n",
       "    </tr>\n",
       "    <tr>\n",
       "      <th>3</th>\n",
       "      <td>700</td>\n",
       "      <td>45</td>\n",
       "      <td>3.0</td>\n",
       "      <td>60.0</td>\n",
       "    </tr>\n",
       "    <tr>\n",
       "      <th>4</th>\n",
       "      <td>700</td>\n",
       "      <td>45</td>\n",
       "      <td>4.0</td>\n",
       "      <td>64.0</td>\n",
       "    </tr>\n",
       "    <tr>\n",
       "      <th>...</th>\n",
       "      <td>...</td>\n",
       "      <td>...</td>\n",
       "      <td>...</td>\n",
       "      <td>...</td>\n",
       "    </tr>\n",
       "    <tr>\n",
       "      <th>763831</th>\n",
       "      <td>468</td>\n",
       "      <td>43</td>\n",
       "      <td>15.0</td>\n",
       "      <td>3.0</td>\n",
       "    </tr>\n",
       "    <tr>\n",
       "      <th>763832</th>\n",
       "      <td>468</td>\n",
       "      <td>43</td>\n",
       "      <td>16.0</td>\n",
       "      <td>5.0</td>\n",
       "    </tr>\n",
       "    <tr>\n",
       "      <th>763833</th>\n",
       "      <td>468</td>\n",
       "      <td>43</td>\n",
       "      <td>18.0</td>\n",
       "      <td>1.0</td>\n",
       "    </tr>\n",
       "    <tr>\n",
       "      <th>763834</th>\n",
       "      <td>468</td>\n",
       "      <td>43</td>\n",
       "      <td>19.0</td>\n",
       "      <td>2.0</td>\n",
       "    </tr>\n",
       "    <tr>\n",
       "      <th>763835</th>\n",
       "      <td>468</td>\n",
       "      <td>4</td>\n",
       "      <td>NaN</td>\n",
       "      <td>NaN</td>\n",
       "    </tr>\n",
       "  </tbody>\n",
       "</table>\n",
       "<p>763836 rows × 4 columns</p>\n",
       "</div>"
      ],
      "text/plain": [
       "        event  sensor_id  time  charge\n",
       "0         700         45   0.0   149.0\n",
       "1         700         45   1.0   127.0\n",
       "2         700         45   2.0   102.0\n",
       "3         700         45   3.0    60.0\n",
       "4         700         45   4.0    64.0\n",
       "...       ...        ...   ...     ...\n",
       "763831    468         43  15.0     3.0\n",
       "763832    468         43  16.0     5.0\n",
       "763833    468         43  18.0     1.0\n",
       "763834    468         43  19.0     2.0\n",
       "763835    468          4   NaN     NaN\n",
       "\n",
       "[763836 rows x 4 columns]"
      ]
     },
     "execution_count": 16,
     "metadata": {},
     "output_type": "execute_result"
    }
   ],
   "source": [
    "sddf = pd.read_csv(f\"{rootdir}/{filenm}\", header=0)\n",
    "sddf"
   ]
  },
  {
   "cell_type": "code",
   "execution_count": 17,
   "id": "b1fee371-4f14-4949-b18f-f44198847515",
   "metadata": {},
   "outputs": [
    {
     "data": {
      "image/png": "[encoded data removed]",
      "text/plain": [
       "<Figure size 600x400 with 1 Axes>"
      ]
     },
     "metadata": {},
     "output_type": "display_data"
    }
   ],
   "source": [
    "histoplot(sddf, \"charge\", num_bins = 20, range=(0,500), figsize=(6, 4), title=\"\")"
   ]
  },
  {
   "cell_type": "markdown",
   "id": "c22a3668-22b1-46bb-aa63-ee2ba2818ed9",
   "metadata": {},
   "source": [
    "This is the charge per time/bin (in bins of 200 ns). Since the dinamic range of our caen digitizer is 250, we can\n",
    "see simultaneously SPE and charge without saturating the ADC"
   ]
  },
  {
   "cell_type": "code",
   "execution_count": 19,
   "id": "684e3cbd-80cb-471c-a1b1-261aab74e965",
   "metadata": {},
   "outputs": [
    {
     "data": {
      "image/png": "[encoded data removed]",
      "text/plain": [
       "<Figure size 600x400 with 1 Axes>"
      ]
     },
     "metadata": {},
     "output_type": "display_data"
    }
   ],
   "source": [
    "plot_time(sddf, num_bins = 20, xmin=0.0, xmax=5e+3, timebin=200, figsize=(6, 4), title=\"\")"
   ]
  },
  {
   "cell_type": "markdown",
   "id": "2cf765cc-98b7-4609-a3df-eae3ca7ee3d2",
   "metadata": {},
   "source": [
    "### Integrated sensor data\n",
    "- Sensors and chage"
   ]
  },
  {
   "cell_type": "code",
   "execution_count": 20,
   "id": "75222770-1ff4-4d37-856e-07612c76fb72",
   "metadata": {},
   "outputs": [],
   "source": [
    "filenm = \"isensor_data_1.csv\"\n",
    "isddf = pd.read_csv(f\"{rootdir}/{filenm}\", header=0)"
   ]
  },
  {
   "cell_type": "code",
   "execution_count": 21,
   "id": "d0dc5b33-4665-49c9-a8dc-edd64a467fcb",
   "metadata": {},
   "outputs": [
    {
     "data": {
      "text/html": [
       "<div>\n",
       "<style scoped>\n",
       "    .dataframe tbody tr th:only-of-type {\n",
       "        vertical-align: middle;\n",
       "    }\n",
       "\n",
       "    .dataframe tbody tr th {\n",
       "        vertical-align: top;\n",
       "    }\n",
       "\n",
       "    .dataframe thead th {\n",
       "        text-align: right;\n",
       "    }\n",
       "</style>\n",
       "<table border=\"1\" class=\"dataframe\">\n",
       "  <thead>\n",
       "    <tr style=\"text-align: right;\">\n",
       "      <th></th>\n",
       "      <th>event</th>\n",
       "      <th>sensor_id</th>\n",
       "      <th>amplitude</th>\n",
       "    </tr>\n",
       "  </thead>\n",
       "  <tbody>\n",
       "    <tr>\n",
       "      <th>0</th>\n",
       "      <td>700</td>\n",
       "      <td>45</td>\n",
       "      <td>713.0</td>\n",
       "    </tr>\n",
       "    <tr>\n",
       "      <th>1</th>\n",
       "      <td>700</td>\n",
       "      <td>62</td>\n",
       "      <td>552.0</td>\n",
       "    </tr>\n",
       "    <tr>\n",
       "      <th>2</th>\n",
       "      <td>700</td>\n",
       "      <td>30</td>\n",
       "      <td>633.0</td>\n",
       "    </tr>\n",
       "    <tr>\n",
       "      <th>3</th>\n",
       "      <td>700</td>\n",
       "      <td>37</td>\n",
       "      <td>711.0</td>\n",
       "    </tr>\n",
       "    <tr>\n",
       "      <th>4</th>\n",
       "      <td>700</td>\n",
       "      <td>59</td>\n",
       "      <td>506.0</td>\n",
       "    </tr>\n",
       "    <tr>\n",
       "      <th>...</th>\n",
       "      <td>...</td>\n",
       "      <td>...</td>\n",
       "      <td>...</td>\n",
       "    </tr>\n",
       "    <tr>\n",
       "      <th>35116</th>\n",
       "      <td>768</td>\n",
       "      <td>23</td>\n",
       "      <td>426.0</td>\n",
       "    </tr>\n",
       "    <tr>\n",
       "      <th>35117</th>\n",
       "      <td>768</td>\n",
       "      <td>27</td>\n",
       "      <td>358.0</td>\n",
       "    </tr>\n",
       "    <tr>\n",
       "      <th>35118</th>\n",
       "      <td>768</td>\n",
       "      <td>35</td>\n",
       "      <td>363.0</td>\n",
       "    </tr>\n",
       "    <tr>\n",
       "      <th>35119</th>\n",
       "      <td>768</td>\n",
       "      <td>33</td>\n",
       "      <td>359.0</td>\n",
       "    </tr>\n",
       "    <tr>\n",
       "      <th>35120</th>\n",
       "      <td>768</td>\n",
       "      <td>3</td>\n",
       "      <td>NaN</td>\n",
       "    </tr>\n",
       "  </tbody>\n",
       "</table>\n",
       "<p>35121 rows × 3 columns</p>\n",
       "</div>"
      ],
      "text/plain": [
       "       event  sensor_id  amplitude\n",
       "0        700         45      713.0\n",
       "1        700         62      552.0\n",
       "2        700         30      633.0\n",
       "3        700         37      711.0\n",
       "4        700         59      506.0\n",
       "...      ...        ...        ...\n",
       "35116    768         23      426.0\n",
       "35117    768         27      358.0\n",
       "35118    768         35      363.0\n",
       "35119    768         33      359.0\n",
       "35120    768          3        NaN\n",
       "\n",
       "[35121 rows x 3 columns]"
      ]
     },
     "execution_count": 21,
     "metadata": {},
     "output_type": "execute_result"
    }
   ],
   "source": [
    "isddf"
   ]
  },
  {
   "cell_type": "code",
   "execution_count": 22,
   "id": "6e990e4b-2e37-41a4-bbe6-0724fe381fca",
   "metadata": {},
   "outputs": [
    {
     "data": {
      "image/png": "[encoded data removed]",
      "text/plain": [
       "<Figure size 600x400 with 1 Axes>"
      ]
     },
     "metadata": {},
     "output_type": "display_data"
    }
   ],
   "source": [
    "histoplot(isddf, \"amplitude\", num_bins = 20, range=(0,2000), figsize=(6, 4), title=\"\")"
   ]
  },
  {
   "cell_type": "code",
   "execution_count": 23,
   "id": "fc8be9f1-72ea-4eb5-bf29-dd525f4ebcc6",
   "metadata": {},
   "outputs": [
    {
     "data": {
      "image/png": "[encoded data removed]",
      "text/plain": [
       "<Figure size 600x400 with 1 Axes>"
      ]
     },
     "metadata": {},
     "output_type": "display_data"
    }
   ],
   "source": [
    "plot_energy(isddf, num_bins = 20, xmin=3e+4, xmax=3.5e+4,figsize=(6, 4), title=\"\")"
   ]
  },
  {
   "cell_type": "code",
   "execution_count": null,
   "id": "4461adb8-dcb2-4771-bd41-2a9a80ed64c2",
   "metadata": {},
   "outputs": [],
   "source": [
    "gname = \"gamma_interactions_1.csv\"\n",
    "dfg = pd.read_csv(f\"{rootdir}/{gname}\", header=0).sort_values(by='event').reset_index(drop=True)\n",
    "dfg.rename(columns={'event': 'event_id',\n",
    "                    'x': 'initial_x',\n",
    "                    ' y': 'initial_y',\n",
    "                    ' z': 'initial_z'}, \n",
    "                    inplace=True)\n",
    "dfg"
   ]
  },
  {
   "cell_type": "code",
   "execution_count": null,
   "id": "ef04df17-e627-4a90-a614-ff3325fd2682",
   "metadata": {},
   "outputs": [],
   "source": [
    "histoplot(dfg, \"initial_x\", num_bins = 50, figsize=(6, 4), title=\"\")"
   ]
  },
  {
   "cell_type": "code",
   "execution_count": null,
   "id": "f27a308c-3d0d-4e9e-834b-fc2141a2c60c",
   "metadata": {},
   "outputs": [],
   "source": [
    "histoplot(dfg, \"initial_y\", num_bins = 50, figsize=(6, 4), title=\"\")"
   ]
  },
  {
   "cell_type": "code",
   "execution_count": null,
   "id": "2babdad7-e8f5-469f-af7f-a4dd477d1593",
   "metadata": {},
   "outputs": [],
   "source": [
    "histoplot(dfg, \"initial_z\", num_bins = 50, figsize=(6, 4), title=\"\")"
   ]
  },
  {
   "cell_type": "markdown",
   "id": "206b7ea4-48aa-432c-8657-91442184421a",
   "metadata": {},
   "source": [
    "### Plot a few events"
   ]
  },
  {
   "cell_type": "code",
   "execution_count": null,
   "id": "550c903d-7b7e-469a-9a87-0fb070e12a41",
   "metadata": {},
   "outputs": [],
   "source": [
    "evtsel = 0\n",
    "charge_matrix = select_image_from_df(isddf,evtsel)\n"
   ]
  },
  {
   "cell_type": "code",
   "execution_count": null,
   "id": "e52b5965-2a8a-4cd5-b225-dcc0d585ea52",
   "metadata": {},
   "outputs": [],
   "source": [
    "charge_matrix"
   ]
  },
  {
   "cell_type": "code",
   "execution_count": null,
   "id": "3a28c451-e3ac-414d-98d8-49ba6e5e9266",
   "metadata": {},
   "outputs": [],
   "source": [
    "plot_image(charge_matrix)"
   ]
  },
  {
   "cell_type": "markdown",
   "id": "fb60f095-e0fc-42a3-9b71-4d3fe6fe0cb0",
   "metadata": {},
   "source": [
    "## Z according to exp(-z/x0)"
   ]
  },
  {
   "cell_type": "code",
   "execution_count": null,
   "id": "8268db37-1673-4126-a2e7-8475522b8823",
   "metadata": {},
   "outputs": [],
   "source": [
    "rootdir = \"/Users/jjgomezcadenas/Data/G4Prods/crystalMT/csiGammasZX0Test\"\n",
    "filenm = \"sensor_data_1.csv\"\n",
    "zddf = pd.read_csv(f\"{rootdir}/{filenm}\", header=0)"
   ]
  },
  {
   "cell_type": "code",
   "execution_count": null,
   "id": "62f2d6f8-6683-4db0-9e8c-8f387f54cd4f",
   "metadata": {},
   "outputs": [],
   "source": [
    "histoplot(zddf, \"charge\", num_bins = 20, range=(0,500), figsize=(6, 4), title=\"\")"
   ]
  },
  {
   "cell_type": "code",
   "execution_count": null,
   "id": "f3e2ba63-9366-4e3d-9e7b-78a789783bff",
   "metadata": {},
   "outputs": [],
   "source": [
    "plot_time(zddf, num_bins = 20, xmin=0.0, xmax=5e+3, timebin=200, figsize=(6, 4), title=\"\")"
   ]
  },
  {
   "cell_type": "code",
   "execution_count": null,
   "id": "10264dba-0ec7-4c15-8c9a-20d235ad72c7",
   "metadata": {},
   "outputs": [],
   "source": [
    "filenm = \"isensor_data_1.csv\"\n",
    "izddf = pd.read_csv(f\"{rootdir}/{filenm}\", header=0)"
   ]
  },
  {
   "cell_type": "code",
   "execution_count": null,
   "id": "7e3aa85b-ec93-49e9-bad9-f810f0ef03ab",
   "metadata": {},
   "outputs": [],
   "source": [
    "histoplot(izddf, \"amplitude\", num_bins = 20, range=(0,2000), figsize=(6, 4), title=\"\")"
   ]
  },
  {
   "cell_type": "code",
   "execution_count": null,
   "id": "a4a44bb6-7773-4197-b235-a80865f5ad67",
   "metadata": {},
   "outputs": [],
   "source": [
    "plot_energy(izddf, num_bins = 20, xmin=3e+4, xmax=3.5e+4,figsize=(6, 4), title=\"\")"
   ]
  },
  {
   "cell_type": "code",
   "execution_count": null,
   "id": "de35c1b3-f2f5-46c6-9151-12af687adb4e",
   "metadata": {},
   "outputs": [],
   "source": [
    "gname = \"gamma_interactions_1.csv\"\n",
    "dfgz = pd.read_csv(f\"{rootdir}/{gname}\", header=0).sort_values(by='event').reset_index(drop=True)\n",
    "dfgz.rename(columns={'event': 'event_id',\n",
    "                    'x': 'initial_x',\n",
    "                    ' y': 'initial_y',\n",
    "                    ' z': 'initial_z'}, \n",
    "                    inplace=True)"
   ]
  },
  {
   "cell_type": "code",
   "execution_count": null,
   "id": "b3f3ea54-e421-4485-abe5-85baac11540e",
   "metadata": {},
   "outputs": [],
   "source": [
    "histoplot(dfgz, \"initial_x\", num_bins = 50, figsize=(6, 4), title=\"\")"
   ]
  },
  {
   "cell_type": "code",
   "execution_count": null,
   "id": "64515bef-c437-4c3e-9142-23f2f2c53378",
   "metadata": {},
   "outputs": [],
   "source": [
    "histoplot(dfgz, \"initial_y\", num_bins = 50, figsize=(6, 4), title=\"\")"
   ]
  },
  {
   "cell_type": "code",
   "execution_count": null,
   "id": "5133ee6b-0fa9-436c-8705-6b8cd480b776",
   "metadata": {},
   "outputs": [],
   "source": [
    "histoplot(dfgz, \"initial_z\", num_bins = 50, figsize=(6, 4), title=\"\")"
   ]
  },
  {
   "cell_type": "code",
   "execution_count": null,
   "id": "a8c808c0-45fd-435f-90be-481bc978c89a",
   "metadata": {},
   "outputs": [],
   "source": [
    "charge_matrix = select_image_from_df(izddf,evtsel)"
   ]
  },
  {
   "cell_type": "code",
   "execution_count": null,
   "id": "c4faff61-d117-4221-89c7-5e34bd5b6fc7",
   "metadata": {},
   "outputs": [],
   "source": [
    "charge_matrix"
   ]
  },
  {
   "cell_type": "code",
   "execution_count": null,
   "id": "0e9a1d8a-a98b-43cc-9e54-cc4d9caf47af",
   "metadata": {},
   "outputs": [],
   "source": [
    "plot_image(charge_matrix)"
   ]
  },
  {
   "cell_type": "code",
   "execution_count": null,
   "id": "1b7d1c92-d601-4d9a-961f-1479d4cf5803",
   "metadata": {},
   "outputs": [],
   "source": []
  },
  {
   "cell_type": "code",
   "execution_count": null,
   "id": "b0eb5df4-d5f5-46d3-830c-2a6919442729",
   "metadata": {},
   "outputs": [],
   "source": []
  }
 ],
 "metadata": {
  "kernelspec": {
   "display_name": "Python 3 (ipykernel)",
   "language": "python",
   "name": "python3"
  },
  "language_info": {
   "codemirror_mode": {
    "name": "ipython",
    "version": 3
   },
   "file_extension": ".py",
   "mimetype": "text/x-python",
   "name": "python",
   "nbconvert_exporter": "python",
   "pygments_lexer": "ipython3",
   "version": "3.11.6"
  }
 },
 "nbformat": 4,
 "nbformat_minor": 5
}
