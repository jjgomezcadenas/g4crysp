{
 "cells": [
  {
   "cell_type": "code",
   "execution_count": 1,
   "id": "e88deb0c-ad48-4f0d-881d-0dad54698101",
   "metadata": {},
   "outputs": [],
   "source": [
    "def test_event_shift(event, fSeed, fNumberOfEvents, fshift=1000):\n",
    "    seedL4D = fSeed % fshift\n",
    "    eventShift = (seedL4D -1) * fNumberOfEvents\n",
    "    eventNumber = event + eventShift\n",
    "    return seedL4D, eventShift, eventNumber"
   ]
  },
  {
   "cell_type": "code",
   "execution_count": 2,
   "id": "fdf787ee-8fb2-46a6-b832-f02f18fb6ca6",
   "metadata": {},
   "outputs": [
    {
     "name": "stdout",
     "output_type": "stream",
     "text": [
      "for event = 1, seed = 12340001, nof =10000\n",
      "event shift = 0, shifted event = 1\n"
     ]
    }
   ],
   "source": [
    "fSeed=12340001\n",
    "fNumberOfEvents=10000\n",
    "event=1\n",
    "seedL4D, eventShift, e1 = test_event_shift(event, fSeed, fNumberOfEvents, fshift=10000)\n",
    "print(f\"for event = {event}, seed = {fSeed}, nof ={fNumberOfEvents}\")\n",
    "print(f\"event shift = {eventShift}, shifted event = {e1}\")"
   ]
  },
  {
   "cell_type": "code",
   "execution_count": 3,
   "id": "8eab4aeb-3448-4c01-8cce-aae5127c82b5",
   "metadata": {},
   "outputs": [
    {
     "name": "stdout",
     "output_type": "stream",
     "text": [
      "for event = 1, seed = 12340002, nof =10000\n",
      "event shift = 10000, shifted event = 10001\n"
     ]
    }
   ],
   "source": [
    "fSeed=12340002\n",
    "fNumberOfEvents=10000\n",
    "event=1\n",
    "seedL4D, eventShift, e1 = test_event_shift(event, fSeed, fNumberOfEvents, fshift=10000)\n",
    "print(f\"for event = {event}, seed = {fSeed}, nof ={fNumberOfEvents}\")\n",
    "print(f\"event shift = {eventShift}, shifted event = {e1}\")"
   ]
  },
  {
   "cell_type": "code",
   "execution_count": 4,
   "id": "fa8d945a-a13c-4129-ba97-5e11887df69c",
   "metadata": {},
   "outputs": [
    {
     "name": "stdout",
     "output_type": "stream",
     "text": [
      "for event = 1, seed = 12340003, nof =20000\n",
      "event shift = 40000, shifted event = 40001\n"
     ]
    }
   ],
   "source": [
    "fSeed=12340003\n",
    "fNumberOfEvents=20000\n",
    "event=1\n",
    "seedL4D, eventShift, e1 = test_event_shift(event, fSeed, fNumberOfEvents, fshift=10000)\n",
    "print(f\"for event = {event}, seed = {fSeed}, nof ={fNumberOfEvents}\")\n",
    "print(f\"event shift = {eventShift}, shifted event = {e1}\")"
   ]
  },
  {
   "cell_type": "code",
   "execution_count": null,
   "id": "ef41f47c-accb-4864-bf66-37fc5e48cb8b",
   "metadata": {},
   "outputs": [],
   "source": []
  }
 ],
 "metadata": {
  "kernelspec": {
   "display_name": "Python 3 (ipykernel)",
   "language": "python",
   "name": "python3"
  },
  "language_info": {
   "codemirror_mode": {
    "name": "ipython",
    "version": 3
   },
   "file_extension": ".py",
   "mimetype": "text/x-python",
   "name": "python",
   "nbconvert_exporter": "python",
   "pygments_lexer": "ipython3",
   "version": "3.11.6"
  }
 },
 "nbformat": 4,
 "nbformat_minor": 5
}
