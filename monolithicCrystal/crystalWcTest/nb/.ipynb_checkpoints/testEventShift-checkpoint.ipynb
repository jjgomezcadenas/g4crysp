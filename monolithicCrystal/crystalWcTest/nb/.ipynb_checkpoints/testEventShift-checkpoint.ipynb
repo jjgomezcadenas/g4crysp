{
 "cells": [
  {
   "cell_type": "code",
   "execution_count": 2,
   "id": "a492d63d-2822-404f-815d-bcc1f9c41a58",
   "metadata": {},
   "outputs": [],
   "source": [
    "import numpy as np"
   ]
  },
  {
   "cell_type": "code",
   "execution_count": 1,
   "id": "e88deb0c-ad48-4f0d-881d-0dad54698101",
   "metadata": {},
   "outputs": [],
   "source": [
    "def test_event_shift(event, fSeed, fNumberOfEvents, fshift=1000):\n",
    "    seedL4D = fSeed % fshift\n",
    "    eventShift = (seedL4D -1) * fNumberOfEvents\n",
    "    eventNumber = event + eventShift\n",
    "    return seedL4D, eventShift, eventNumber"
   ]
  },
  {
   "cell_type": "code",
   "execution_count": 2,
   "id": "fdf787ee-8fb2-46a6-b832-f02f18fb6ca6",
   "metadata": {},
   "outputs": [
    {
     "name": "stdout",
     "output_type": "stream",
     "text": [
      "for event = 1, seed = 12340001, nof =10000\n",
      "event shift = 0, shifted event = 1\n"
     ]
    }
   ],
   "source": [
    "fSeed=12340001\n",
    "fNumberOfEvents=10000\n",
    "event=1\n",
    "seedL4D, eventShift, e1 = test_event_shift(event, fSeed, fNumberOfEvents, fshift=10000)\n",
    "print(f\"for event = {event}, seed = {fSeed}, nof ={fNumberOfEvents}\")\n",
    "print(f\"event shift = {eventShift}, shifted event = {e1}\")"
   ]
  },
  {
   "cell_type": "code",
   "execution_count": 3,
   "id": "8eab4aeb-3448-4c01-8cce-aae5127c82b5",
   "metadata": {},
   "outputs": [
    {
     "name": "stdout",
     "output_type": "stream",
     "text": [
      "for event = 1, seed = 12340002, nof =10000\n",
      "event shift = 10000, shifted event = 10001\n"
     ]
    }
   ],
   "source": [
    "fSeed=12340002\n",
    "fNumberOfEvents=10000\n",
    "event=1\n",
    "seedL4D, eventShift, e1 = test_event_shift(event, fSeed, fNumberOfEvents, fshift=10000)\n",
    "print(f\"for event = {event}, seed = {fSeed}, nof ={fNumberOfEvents}\")\n",
    "print(f\"event shift = {eventShift}, shifted event = {e1}\")"
   ]
  },
  {
   "cell_type": "code",
   "execution_count": 4,
   "id": "fa8d945a-a13c-4129-ba97-5e11887df69c",
   "metadata": {},
   "outputs": [
    {
     "name": "stdout",
     "output_type": "stream",
     "text": [
      "for event = 1, seed = 12340003, nof =20000\n",
      "event shift = 40000, shifted event = 40001\n"
     ]
    }
   ],
   "source": [
    "fSeed=12340003\n",
    "fNumberOfEvents=20000\n",
    "event=1\n",
    "seedL4D, eventShift, e1 = test_event_shift(event, fSeed, fNumberOfEvents, fshift=10000)\n",
    "print(f\"for event = {event}, seed = {fSeed}, nof ={fNumberOfEvents}\")\n",
    "print(f\"event shift = {eventShift}, shifted event = {e1}\")"
   ]
  },
  {
   "cell_type": "markdown",
   "id": "61171732-1547-4a0c-81dc-b2bb34c3c29a",
   "metadata": {},
   "source": [
    "## PET Geometry"
   ]
  },
  {
   "cell_type": "code",
   "execution_count": null,
   "id": "36e5a4a8-ba23-4d61-853b-e84cbef8d181",
   "metadata": {},
   "outputs": [],
   "source": []
  },
  {
   "cell_type": "code",
   "execution_count": 12,
   "id": "ef41f47c-accb-4864-bf66-37fc5e48cb8b",
   "metadata": {},
   "outputs": [],
   "source": [
    "fPetDiameter= 774\n",
    "fPetLength=1024\n",
    "tt = 1\n",
    "eCrystalWidth= 48 + tt\n",
    "t = 2 * 18.6 + tt\n"
   ]
  },
  {
   "cell_type": "code",
   "execution_count": 13,
   "id": "a7a0009a-f760-4eb8-b24a-7bdb40130854",
   "metadata": {},
   "outputs": [],
   "source": [
    "angles = np.floor(fPetDiameter * np.pi / eCrystalWidth);\n",
    "step = 2.0 * np.pi / angles;\n",
    "rings = np.floor(fPetLength / eCrystalWidth);"
   ]
  },
  {
   "cell_type": "code",
   "execution_count": 14,
   "id": "44885d69-5abc-427c-a24c-94eb0e98c527",
   "metadata": {},
   "outputs": [
    {
     "name": "stdout",
     "output_type": "stream",
     "text": [
      "angles = 49.0, step = 0.1282282715750936, rings = 20.0\n"
     ]
    }
   ],
   "source": [
    "print(f\"angles = {angles}, step = {step}, rings = {rings}\")"
   ]
  },
  {
   "cell_type": "code",
   "execution_count": 6,
   "id": "0e28457b-5219-4782-99e3-39bd28723997",
   "metadata": {},
   "outputs": [
    {
     "ename": "NameError",
     "evalue": "name 'floor' is not defined",
     "output_type": "error",
     "traceback": [
      "\u001b[0;31m---------------------------------------------------------------------------\u001b[0m",
      "\u001b[0;31mNameError\u001b[0m                                 Traceback (most recent call last)",
      "Cell \u001b[0;32mIn[6], line 1\u001b[0m\n\u001b[0;32m----> 1\u001b[0m \u001b[43mfloor\u001b[49m(nb)\n",
      "\u001b[0;31mNameError\u001b[0m: name 'floor' is not defined"
     ]
    }
   ],
   "source": [
    "for iring in range(0:rings):\n",
    "    for itheta in range(0:angles):\n",
    "      auto theta = 2 * M_PI * itheta / angles ;\n",
    "      auto label = std::to_string(iring*angles + itheta);\n",
    "\n",
    "      auto y = (fPetDiameter / 2 + eCrystalLength / 2) * std::cos(theta);\n",
    "      auto x = (fPetDiameter / 2 + eCrystalLength / 2) * std::sin(theta);\n",
    "      auto z = -fPetLength / 2 + iring * eCrystalWidth + eCrystalWidth / 2;"
   ]
  },
  {
   "cell_type": "code",
   "execution_count": 7,
   "id": "34f58d71-342d-463f-9fd7-b582225bb641",
   "metadata": {},
   "outputs": [
    {
     "data": {
      "text/plain": [
       "49.0"
      ]
     },
     "execution_count": 7,
     "metadata": {},
     "output_type": "execute_result"
    }
   ],
   "source": [
    "np.floor(nb)"
   ]
  },
  {
   "cell_type": "code",
   "execution_count": 8,
   "id": "871d2bd1-af7d-465a-b6ab-598a7e8a6b27",
   "metadata": {},
   "outputs": [],
   "source": [
    "step = 2*np.pi/np.floor(nb)"
   ]
  },
  {
   "cell_type": "code",
   "execution_count": 9,
   "id": "b7b946ef-a254-4193-ac69-425da23a69af",
   "metadata": {},
   "outputs": [
    {
     "data": {
      "text/plain": [
       "0.1282282715750936"
      ]
     },
     "execution_count": 9,
     "metadata": {},
     "output_type": "execute_result"
    }
   ],
   "source": [
    "step"
   ]
  },
  {
   "cell_type": "code",
   "execution_count": null,
   "id": "1ced2137-2d84-4732-9fa9-d9bf080c6565",
   "metadata": {},
   "outputs": [],
   "source": []
  }
 ],
 "metadata": {
  "kernelspec": {
   "display_name": "Python 3 (ipykernel)",
   "language": "python",
   "name": "python3"
  },
  "language_info": {
   "codemirror_mode": {
    "name": "ipython",
    "version": 3
   },
   "file_extension": ".py",
   "mimetype": "text/x-python",
   "name": "python",
   "nbconvert_exporter": "python",
   "pygments_lexer": "ipython3",
   "version": "3.11.6"
  }
 },
 "nbformat": 4,
 "nbformat_minor": 5
}
