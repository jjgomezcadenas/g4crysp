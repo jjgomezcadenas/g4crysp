{
 "cells": [
  {
   "cell_type": "code",
   "execution_count": 29,
   "id": "a492d63d-2822-404f-815d-bcc1f9c41a58",
   "metadata": {},
   "outputs": [],
   "source": [
    "%matplotlib inline\n",
    "%load_ext autoreload\n",
    "%autoreload 2\n",
    "import numpy as np\n",
    "import pandas as pd\n",
    "import glob\n",
    "import matplotlib.pyplot as plt"
   ]
  },
  {
   "cell_type": "code",
   "execution_count": 1,
   "id": "e88deb0c-ad48-4f0d-881d-0dad54698101",
   "metadata": {},
   "outputs": [],
   "source": [
    "def test_event_shift(event, fSeed, fNumberOfEvents, fshift=1000):\n",
    "    seedL4D = fSeed % fshift\n",
    "    eventShift = (seedL4D -1) * fNumberOfEvents\n",
    "    eventNumber = event + eventShift\n",
    "    return seedL4D, eventShift, eventNumber"
   ]
  },
  {
   "cell_type": "code",
   "execution_count": 2,
   "id": "fdf787ee-8fb2-46a6-b832-f02f18fb6ca6",
   "metadata": {},
   "outputs": [
    {
     "name": "stdout",
     "output_type": "stream",
     "text": [
      "for event = 1, seed = 12340001, nof =10000\n",
      "event shift = 0, shifted event = 1\n"
     ]
    }
   ],
   "source": [
    "fSeed=12340001\n",
    "fNumberOfEvents=10000\n",
    "event=1\n",
    "seedL4D, eventShift, e1 = test_event_shift(event, fSeed, fNumberOfEvents, fshift=10000)\n",
    "print(f\"for event = {event}, seed = {fSeed}, nof ={fNumberOfEvents}\")\n",
    "print(f\"event shift = {eventShift}, shifted event = {e1}\")"
   ]
  },
  {
   "cell_type": "code",
   "execution_count": 3,
   "id": "8eab4aeb-3448-4c01-8cce-aae5127c82b5",
   "metadata": {},
   "outputs": [
    {
     "name": "stdout",
     "output_type": "stream",
     "text": [
      "for event = 1, seed = 12340002, nof =10000\n",
      "event shift = 10000, shifted event = 10001\n"
     ]
    }
   ],
   "source": [
    "fSeed=12340002\n",
    "fNumberOfEvents=10000\n",
    "event=1\n",
    "seedL4D, eventShift, e1 = test_event_shift(event, fSeed, fNumberOfEvents, fshift=10000)\n",
    "print(f\"for event = {event}, seed = {fSeed}, nof ={fNumberOfEvents}\")\n",
    "print(f\"event shift = {eventShift}, shifted event = {e1}\")"
   ]
  },
  {
   "cell_type": "code",
   "execution_count": 4,
   "id": "fa8d945a-a13c-4129-ba97-5e11887df69c",
   "metadata": {},
   "outputs": [
    {
     "name": "stdout",
     "output_type": "stream",
     "text": [
      "for event = 1, seed = 12340003, nof =20000\n",
      "event shift = 40000, shifted event = 40001\n"
     ]
    }
   ],
   "source": [
    "fSeed=12340003\n",
    "fNumberOfEvents=20000\n",
    "event=1\n",
    "seedL4D, eventShift, e1 = test_event_shift(event, fSeed, fNumberOfEvents, fshift=10000)\n",
    "print(f\"for event = {event}, seed = {fSeed}, nof ={fNumberOfEvents}\")\n",
    "print(f\"event shift = {eventShift}, shifted event = {e1}\")"
   ]
  },
  {
   "cell_type": "markdown",
   "id": "61171732-1547-4a0c-81dc-b2bb34c3c29a",
   "metadata": {},
   "source": [
    "## PET Geometry"
   ]
  },
  {
   "cell_type": "code",
   "execution_count": 63,
   "id": "36e5a4a8-ba23-4d61-853b-e84cbef8d181",
   "metadata": {},
   "outputs": [
    {
     "data": {
      "text/plain": [
       "748.6648523042757"
      ]
     },
     "execution_count": 63,
     "metadata": {},
     "output_type": "execute_result"
    }
   ],
   "source": [
    "49 * 48/np.pi"
   ]
  },
  {
   "cell_type": "code",
   "execution_count": null,
   "id": "c7161345-03bf-44ac-81be-a6b5efbe3603",
   "metadata": {},
   "outputs": [],
   "source": []
  },
  {
   "cell_type": "code",
   "execution_count": 21,
   "id": "ef41f47c-accb-4864-bf66-37fc5e48cb8b",
   "metadata": {},
   "outputs": [],
   "source": [
    "fPetDiameter= 774\n",
    "fPetLength=1024\n",
    "tt = 1\n",
    "eCrystalWidth= 48 + tt\n",
    "eCrystalLength = 2 * 18.6 + tt\n"
   ]
  },
  {
   "cell_type": "code",
   "execution_count": 55,
   "id": "a7a0009a-f760-4eb8-b24a-7bdb40130854",
   "metadata": {},
   "outputs": [],
   "source": [
    "angles = int(np.floor(fPetDiameter * np.pi / eCrystalWidth)) -1\n",
    "step = 2.0 * np.pi / angles;\n",
    "rings = int(np.floor(fPetLength / eCrystalWidth))"
   ]
  },
  {
   "cell_type": "code",
   "execution_count": 56,
   "id": "44885d69-5abc-427c-a24c-94eb0e98c527",
   "metadata": {},
   "outputs": [
    {
     "name": "stdout",
     "output_type": "stream",
     "text": [
      "angles = 48, step = 0.1308996938995747, rings = 20\n"
     ]
    }
   ],
   "source": [
    "print(f\"angles = {angles}, step = {step}, rings = {rings}\")"
   ]
  },
  {
   "cell_type": "code",
   "execution_count": 57,
   "id": "0e28457b-5219-4782-99e3-39bd28723997",
   "metadata": {},
   "outputs": [],
   "source": [
    "X = []\n",
    "Y = []\n",
    "Z = []\n",
    "for iring in range(0,1):\n",
    "    for itheta in range(0,angles):\n",
    "        theta = 2 * np.pi * itheta / angles \n",
    "        \n",
    "        y = (fPetDiameter / 2 + eCrystalLength / 2) * np.cos(theta)\n",
    "        x = (fPetDiameter / 2 + eCrystalLength / 2) * np.sin(theta)\n",
    "        z = -fPetLength / 2 + iring * eCrystalWidth + eCrystalWidth / 2\n",
    "        Y.append(y)\n",
    "        X.append(x)\n",
    "        Z.append(z)"
   ]
  },
  {
   "cell_type": "code",
   "execution_count": 58,
   "id": "ca65755f-7687-4483-91da-3ada45a1cb34",
   "metadata": {},
   "outputs": [],
   "source": [
    "xc = np.array(X)\n",
    "yc = np.array(Y)\n"
   ]
  },
  {
   "cell_type": "code",
   "execution_count": 59,
   "id": "95dcd629-c150-420c-869e-dbfe25c73494",
   "metadata": {},
   "outputs": [],
   "source": [
    "xr = xc + (eCrystalWidth/2) * np.ones(xc.shape[0])"
   ]
  },
  {
   "cell_type": "code",
   "execution_count": 60,
   "id": "4f02089a-8eca-4a0e-bc0d-fafb8db24cfd",
   "metadata": {},
   "outputs": [],
   "source": [
    "yb = yc - (eCrystalWidth/2) * np.ones(yc.shape[0])"
   ]
  },
  {
   "cell_type": "code",
   "execution_count": 61,
   "id": "c6f000b6-f632-4b02-a7be-0e6ce9375223",
   "metadata": {},
   "outputs": [
    {
     "data": {
      "text/plain": [
       "<matplotlib.collections.PathCollection at 0x12f0a9490>"
      ]
     },
     "execution_count": 61,
     "metadata": {},
     "output_type": "execute_result"
    },
    {
     "data": {
      "image/png": "[encoded data removed]",
      "text/plain": [
       "<Figure size 640x480 with 1 Axes>"
      ]
     },
     "metadata": {},
     "output_type": "display_data"
    }
   ],
   "source": [
    "plt.scatter(xc, yc)\n",
    "plt.scatter(xr, yb)"
   ]
  },
  {
   "cell_type": "code",
   "execution_count": null,
   "id": "9a09b952-029c-4311-80a0-26ced263efe8",
   "metadata": {},
   "outputs": [],
   "source": []
  },
  {
   "cell_type": "code",
   "execution_count": null,
   "id": "98bf9933-afed-4570-a4f8-e8090c1540b7",
   "metadata": {},
   "outputs": [],
   "source": []
  },
  {
   "cell_type": "code",
   "execution_count": null,
   "id": "e053e865-79c5-40cd-a23d-d9e6b6c9093e",
   "metadata": {},
   "outputs": [],
   "source": []
  },
  {
   "cell_type": "code",
   "execution_count": 7,
   "id": "34f58d71-342d-463f-9fd7-b582225bb641",
   "metadata": {},
   "outputs": [
    {
     "data": {
      "text/plain": [
       "49.0"
      ]
     },
     "execution_count": 7,
     "metadata": {},
     "output_type": "execute_result"
    }
   ],
   "source": [
    "np.floor(nb)"
   ]
  },
  {
   "cell_type": "code",
   "execution_count": 8,
   "id": "871d2bd1-af7d-465a-b6ab-598a7e8a6b27",
   "metadata": {},
   "outputs": [],
   "source": [
    "step = 2*np.pi/np.floor(nb)"
   ]
  },
  {
   "cell_type": "code",
   "execution_count": 9,
   "id": "b7b946ef-a254-4193-ac69-425da23a69af",
   "metadata": {},
   "outputs": [
    {
     "data": {
      "text/plain": [
       "0.1282282715750936"
      ]
     },
     "execution_count": 9,
     "metadata": {},
     "output_type": "execute_result"
    }
   ],
   "source": [
    "step"
   ]
  },
  {
   "cell_type": "code",
   "execution_count": null,
   "id": "1ced2137-2d84-4732-9fa9-d9bf080c6565",
   "metadata": {},
   "outputs": [],
   "source": []
  }
 ],
 "metadata": {
  "kernelspec": {
   "display_name": "Python 3 (ipykernel)",
   "language": "python",
   "name": "python3"
  },
  "language_info": {
   "codemirror_mode": {
    "name": "ipython",
    "version": 3
   },
   "file_extension": ".py",
   "mimetype": "text/x-python",
   "name": "python",
   "nbconvert_exporter": "python",
   "pygments_lexer": "ipython3",
   "version": "3.11.6"
  }
 },
 "nbformat": 4,
 "nbformat_minor": 5
}
