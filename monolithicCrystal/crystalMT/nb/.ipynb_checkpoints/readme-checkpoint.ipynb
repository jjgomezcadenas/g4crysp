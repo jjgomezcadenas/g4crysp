{
 "cells": [
  {
   "cell_type": "markdown",
   "id": "361ade43-ab10-47b1-af5f-ee26c847702d",
   "metadata": {},
   "source": [
    "# G4 Simulation of a Monolithic Crystal readout by PMTs."
   ]
  },
  {
   "cell_type": "markdown",
   "id": "64f2fea2-310a-48d7-b246-81bb18972694",
   "metadata": {},
   "source": [
    "## Setup\n",
    "- The setup consists of a crystal readout by an array of 8 x 8 SiPMs.\n",
    "- It is possible to select the crystal material (LYSO, BGO, CsI, or CsITl).\n",
    "- The crystal is wrapped in Teflon. The back side of the crystal is readout by an Array of SiPMs.\n",
    "- The SiPMs are coupled to the crystal through optical grease.\n",
    "- The SiPMs themselves are defined as a small volume of Silicon to which the PDE is added."
   ]
  },
  {
   "cell_type": "markdown",
   "id": "1a784f7b-649d-4ce1-a44e-921d3ee6b41f",
   "metadata": {},
   "source": [
    "## Generation of photons\n",
    "- Scintillation photons are generated following the spectrum of the corresponding crystal (unless an option of fixed number of photons is selected).\n",
    "- The photons are also generated according to the lifetime of the material.\n",
    "- Currently photons are generated uniformly in the full volume (TBD: select the possibility of generating them according to the X0 radiation length).\n",
    "  "
   ]
  },
  {
   "cell_type": "markdown",
   "id": "f34736dd-d88c-48f1-8a2d-25d4769fa0d2",
   "metadata": {},
   "source": [
    "## Hits\n",
    "- Hits are recorded in the SiPMs. The simulation outputs the integrated data (event, channel, charge), as well as the time-vector data (event channel, time-bin charge-in-time-bin). "
   ]
  },
  {
   "cell_type": "markdown",
   "id": "d47c2839-740e-4561-a218-cfcf604b6cfb",
   "metadata": {},
   "source": [
    "## Description of the G4 classes"
   ]
  },
  {
   "cell_type": "markdown",
   "id": "e80d8661-0cfe-47a8-a0ce-27cc2b380b5f",
   "metadata": {},
   "source": [
    "### Detector Construction \n",
    "- This class is called one time, before run starts, and defines the setup.\n",
    "- A box filled with a scintillator (one can choose between LYSO, BGO, CsI and CsITl).\n",
    "- Wrapped with Teflon (with optical properties defined).\n",
    "- Readout by A SiPM array made of 64 sensors and coupled with optical grease.\n",
    "- The following parameters are relevant for Detector Construction\n",
    "\n",
    "```\n",
    "/detector/crystalMaterial CsITl\n",
    "/detector/crystalWidth 48 mm\n",
    "/detector/crystalX0Length 2\n",
    "/detector/teflonThickness 0.08 mm\n",
    "/detector/teflonCoatings 5\n",
    "/detector/sipmXY 6 mm\n",
    "/detector/sipmZ 1 mm\n",
    "/detector/epoxyZ 0.15 mm\n",
    "/detector/sipmActiveXY 5.9 mm\n",
    "/detector/sipmActiveZ 0.01 mm\n",
    "```\n"
   ]
  },
  {
   "cell_type": "markdown",
   "id": "11745629-b9eb-410e-92af-a143d0fc4114",
   "metadata": {},
   "source": [
    "### Action initialization \n",
    "- This class is called (for each thread) and instantiates a cascade of actions:\n",
    "  ```\n",
    "  void ActionInitialization::Build() const\n",
    "{\n",
    "  SetUserAction(new PrimaryGeneratorAction);\n",
    "  SetUserAction(new RunAction);\n",
    "  SetUserAction(new EventAction);\n",
    "  SetUserAction(new TrackingAction);\n",
    "\n",
    "}\n",
    "  ```"
   ]
  },
  {
   "cell_type": "markdown",
   "id": "a92c6a8d-f9e8-4f60-a7e1-1c8ec008a209",
   "metadata": {},
   "source": [
    "### PrimaryGeneratorAction\n",
    "- This class is called for each thread. Its goal is to create the vertices with the particles that will be propagated by the application. In this case, each vertex is created randomly in the crystal volume, and a number of optical photons are generated in the vertex.\n",
    "- The following parameters are relevant for Primary generator action\n",
    "\n",
    "```\n",
    "/primary/nphotons 1\n",
    "/primary/gaussian true\n",
    "/primary/fano 1.1\n",
    "/primary/timeBinning 50 ns\n",
    "```\n",
    "\n",
    "- If */primary/guassian* is true, then the number of photons generated in the vertex is a gaussian distribution around the expected value of photons for a 511 keV gamma in the crystal (e.g, 54,000 photons/MeV in CsITl). If */primary/guassian* is false, then a fixed number of photons (corresponding to */primary/nphotons*) is generated. One can also control de Fano factor, affecting the resolution and the time binning to store the hits.\n",
    "- The optical photons are created with random directions and polatization. The energy is sample from the spectrum defined in the material. \n",
    "\n",
    "\n"
   ]
  },
  {
   "cell_type": "markdown",
   "id": "882e180d-55d0-48a1-bab2-ab8aef4f987a",
   "metadata": {},
   "source": [
    "## RunAction\n",
    "- Nothing is done here"
   ]
  },
  {
   "cell_type": "markdown",
   "id": "cb495f92-9075-48d3-add6-ebb45ae17664",
   "metadata": {},
   "source": [
    "### EventAction\n",
    "- This class is called every event (for each thread). The class *EventAction::BeginOfEventAction(const G4Event\\* event)* is called at the beginning of the event and the class *EndOfEventAction(const G4Event\\* event)* at the end of each event.\n",
    "- Hits are stored and written to csv files in  *EndOfEventAction*"
   ]
  },
  {
   "cell_type": "markdown",
   "id": "701b058c-57bc-4ece-ae8e-c46196ae97bd",
   "metadata": {},
   "source": [
    "### Tracking Action\n",
    "- Trajectories of the optical photons are stored."
   ]
  },
  {
   "cell_type": "markdown",
   "id": "831c051a-fdbe-4453-9fff-2aacdf742b86",
   "metadata": {},
   "source": [
    "### SensorHit\n",
    "- This class defines the SensorHit structure. It has three fields: the sensor id (a number between 0 and 63) the sensor position and a map which represents an histogram storing the number of photons per time bin.\n",
    "  \n",
    "```\n",
    "G4int fSensorID = -1;        ///< Detector ID number\n",
    "G4ThreeVector fSensorPos;   ///< Detector position\n",
    "\n",
    "// Sparse histogram with number of photons detected per time bin\n",
    "  std::map<G4double, G4int> fNphotons;\n",
    "```\n"
   ]
  },
  {
   "cell_type": "markdown",
   "id": "a6c0b01a-f0cf-4566-93cd-99ebdda1ad64",
   "metadata": {},
   "source": [
    "### SensorSD\n",
    "- This class defines the Sensitive Detector. Registers the collection of SensorHits and process hits.\n",
    "  1. For each step, access the track and checks whether is an optical photon. if not return\n",
    "  2. Access the touchable geometry and retrieves the sensor id\n",
    "  3. Creates a hit and fills sensorID and sensorPos, then insert in the collection.\n",
    "  4. Computes the true time of the optical photon as the sum of the propagation time (given by G4) and the decay time obtained by sampling the decay distribution.\n",
    "  5. Then fill the time (in the histogram of binned times)\n",
    "  6. Finally stop the track.\n",
    "  \n",
    "```\n",
    "G4bool SensorSD::ProcessHits(G4Step* step, G4TouchableHistory*)\n",
    "{\n",
    "  // Check whether the track is an optical photon\n",
    "  //G4cout << \"inside ProcessHits\" << G4endl;\n",
    "  \n",
    "  G4Track* track = step->GetTrack();\n",
    "  G4ParticleDefinition* pdef = track->GetDefinition();\n",
    "  if (pdef != G4OpticalPhoton::Definition()) return false;\n",
    "\n",
    "  const G4VTouchable* touchable = step->GetPostStepPoint()->GetTouchable();\n",
    "  G4int sensor_id = FindSensorID(touchable);\n",
    "\n",
    "  // If no hit associated to this sensor exists already,\n",
    "  // create it and set main properties\n",
    "  \n",
    "  if (!hit)\n",
    "    {\n",
    "      hit = new SensorHit();\n",
    "      hit->fSensorID = sensor_id;\n",
    "      hit->fSensorPos = touchable->GetTranslation();\n",
    "      fHitsCollection->insert(hit);\n",
    "    }\n",
    "\n",
    "  //time that photon needs to propagate from vertex to sensor\n",
    "  auto gtime = step->GetPostStepPoint()->GetGlobalTime(); \n",
    "  auto en = track->GetKineticEnergy();\n",
    "  auto wl = 1240.0 / (en/eV);\n",
    "\n",
    "  // Retrieve the scintillation time constant\n",
    "  G4Material* mat = fenvLV->GetMaterial();\n",
    "\n",
    "  //G4cout << \"found material = \" << mat->GetName() << G4endl;\n",
    "  \n",
    "  G4MaterialPropertiesTable* mpt = mat->GetMaterialPropertiesTable();\n",
    "  if (!mpt) {\n",
    "    G4Exception(\"[SensorSD]\", \"Process Hits\", FatalException,\n",
    "                \"Material Properties Table is not defined.\");\n",
    "  }\n",
    "\n",
    "\n",
    "  // Sample random time using exponential distribution\n",
    "  auto timeConstant = mpt->GetConstProperty(\"SCINTILLATIONTIMECONSTANT1\");\n",
    "  auto decayTime = -timeConstant * std::log(G4UniformRand());\n",
    "  auto time = gtime + decayTime; // decay time + propagation time\n",
    "\n",
    "  //G4cout << \" SensorSD::ProcessHits:: time (ns)= \" << time/ns <<  \" wl (nm) = \" << wl <<  G4endl; \n",
    "  hit->Fill(time);\n",
    "\n",
    "  track->SetTrackStatus(fStopAndKill); //hit registered we can kill the track\n",
    "  \n",
    "```\n",
    "\n",
    "- M"
   ]
  },
  {
   "cell_type": "markdown",
   "id": "be8f6007-e2d4-4bf1-bb6a-fedf3b7a99db",
   "metadata": {},
   "source": [
    "## ToDos\n",
    "- Write a file with the event vertex\n",
    "- Select by card which files are to be written.\n",
    "- Introduce control histograms (use GSL).\n",
    "- Control histograms:\n",
    "    - Time distribution.\n",
    "    - x,y,z distribution.\n",
    "    - generation spectrum (in wavelength)\n",
    "    - detected spectrum (in wavelength)\n",
    " - Interaction in Z: uniform or according to X0, selectable.\n",
    " - Do we need hdf5 or parquet?\n",
    "    "
   ]
  }
 ],
 "metadata": {
  "kernelspec": {
   "display_name": "Python 3 (ipykernel)",
   "language": "python",
   "name": "python3"
  },
  "language_info": {
   "codemirror_mode": {
    "name": "ipython",
    "version": 3
   },
   "file_extension": ".py",
   "mimetype": "text/x-python",
   "name": "python",
   "nbconvert_exporter": "python",
   "pygments_lexer": "ipython3",
   "version": "3.11.6"
  }
 },
 "nbformat": 4,
 "nbformat_minor": 5
}
