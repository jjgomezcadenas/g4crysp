{
 "cells": [
  {
   "cell_type": "markdown",
   "id": "361ade43-ab10-47b1-af5f-ee26c847702d",
   "metadata": {},
   "source": [
    "# G4 Simulation of a Monolithic Crystal readout by PMTs."
   ]
  },
  {
   "cell_type": "markdown",
   "id": "64f2fea2-310a-48d7-b246-81bb18972694",
   "metadata": {},
   "source": [
    "## Setup\n",
    "- The setup consists of a crystal readout by an array of 8 x 8 SiPMs.\n",
    "- It is possible to select the crystal material (LYSO, BGO, CsI, or CsITl).\n",
    "- The crystal is wrapped in Teflon. The back side of the crystal is readout by an Array of SiPMs.\n",
    "- The SiPMs are coupled to the crystal through optical grease.\n",
    "- The SiPMs themselves are defined as a small volume of Silicon to which the PDE is added."
   ]
  },
  {
   "cell_type": "markdown",
   "id": "1a784f7b-649d-4ce1-a44e-921d3ee6b41f",
   "metadata": {},
   "source": [
    "## Generation of photons\n",
    "- Scintillation photons are generated following the spectrum of the corresponding crystal (unless an option of fixed number of photons is selected).\n",
    "- The photons are also generated according to the lifetime of the material.\n",
    "- Currently photons are generated uniformly in the full volume (TBD: select the possibility of generating them according to the X0 radiation length).\n",
    "  "
   ]
  },
  {
   "cell_type": "markdown",
   "id": "f34736dd-d88c-48f1-8a2d-25d4769fa0d2",
   "metadata": {},
   "source": [
    "## Hits\n",
    "- Hits are recorded in the SiPMs. The simulation outputs the integrated data (event, channel, charge), as well as the time-vector data (event channel, time-bin charge-in-time-bin). "
   ]
  },
  {
   "cell_type": "markdown",
   "id": "be8f6007-e2d4-4bf1-bb6a-fedf3b7a99db",
   "metadata": {},
   "source": [
    "## ToDos\n",
    "- Write a file with the event vertex\n",
    "- Select by card which files are to be written.\n",
    "- Introduce control histograms (use GSL).\n",
    "- Control histograms:\n",
    "    - Time distribution.\n",
    "    - x,y,z distribution.\n",
    "    - generation spectrum (in wavelength)\n",
    "    - detected spectrum (in wavelength)\n",
    " - Interaction in Z: uniform or according to X0, selectable.\n",
    " - Do we need hdf5 or parquet?\n",
    "    "
   ]
  }
 ],
 "metadata": {
  "kernelspec": {
   "display_name": "Python 3 (ipykernel)",
   "language": "python",
   "name": "python3"
  },
  "language_info": {
   "codemirror_mode": {
    "name": "ipython",
    "version": 3
   },
   "file_extension": ".py",
   "mimetype": "text/x-python",
   "name": "python",
   "nbconvert_exporter": "python",
   "pygments_lexer": "ipython3",
   "version": "3.11.6"
  }
 },
 "nbformat": 4,
 "nbformat_minor": 5
}
